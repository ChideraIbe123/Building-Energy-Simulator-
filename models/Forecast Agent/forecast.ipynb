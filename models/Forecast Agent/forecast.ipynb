{
 "cells": [
  {
   "cell_type": "code",
   "execution_count": 8,
   "metadata": {},
   "outputs": [
    {
     "name": "stdout",
     "output_type": "stream",
     "text": [
      "['buildings-900k-test', 'sceaux', 'borealis', 'ideal', 'bdg-2', 'bdg-2:panther', 'bdg-2:fox', 'bdg-2:rat', 'bdg-2:bear', 'electricity', 'smart', 'lcl']\n"
     ]
    }
   ],
   "source": [
    "from buildings_bench import benchmark_registry\n",
    "\n",
    "print(benchmark_registry)"
   ]
  }
 ],
 "metadata": {
  "kernelspec": {
   "display_name": "Building_Energy_Simulator",
   "language": "python",
   "name": "python3"
  },
  "language_info": {
   "codemirror_mode": {
    "name": "ipython",
    "version": 3
   },
   "file_extension": ".py",
   "mimetype": "text/x-python",
   "name": "python",
   "nbconvert_exporter": "python",
   "pygments_lexer": "ipython3",
   "version": "3.11.11"
  }
 },
 "nbformat": 4,
 "nbformat_minor": 2
}
